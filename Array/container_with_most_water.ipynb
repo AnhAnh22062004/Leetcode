{
 "cells": [
  {
   "cell_type": "code",
   "execution_count": 14,
   "metadata": {},
   "outputs": [],
   "source": [
    "from typing import List"
   ]
  },
  {
   "cell_type": "code",
   "execution_count": 15,
   "metadata": {},
   "outputs": [],
   "source": [
    "class Solution:\n",
    "    def maxArea(self, height: List[int]) -> int:\n",
    "        result_area = 0\n",
    "        lenght = len(height)\n",
    "        low = 0\n",
    "        high = lenght - 1\n",
    "        while(low< high):\n",
    "            if (height[low] <= height[high]):\n",
    "                current_area = height[low] * (high - low)\n",
    "                if current_area > result_area:\n",
    "                    result_area = current_area\n",
    "            else:\n",
    "                current_area = height[high] * (high - low)\n",
    "                if current_area > result_area:\n",
    "                    result_area = current_area\n",
    "            if height[low] > height[high]:\n",
    "                high -= 1\n",
    "            else:\n",
    "                low+= 1 \n",
    "\n",
    "        return result_area"
   ]
  },
  {
   "cell_type": "code",
   "execution_count": 16,
   "metadata": {},
   "outputs": [],
   "source": [
    "height = [1,8,6,2,5,4,8,3,7]"
   ]
  },
  {
   "cell_type": "code",
   "execution_count": 17,
   "metadata": {},
   "outputs": [
    {
     "name": "stdout",
     "output_type": "stream",
     "text": [
      "49\n"
     ]
    }
   ],
   "source": [
    "solution = Solution()\n",
    "print(solution.maxArea(height))"
   ]
  }
 ],
 "metadata": {
  "kernelspec": {
   "display_name": "Python 3",
   "language": "python",
   "name": "python3"
  },
  "language_info": {
   "codemirror_mode": {
    "name": "ipython",
    "version": 3
   },
   "file_extension": ".py",
   "mimetype": "text/x-python",
   "name": "python",
   "nbconvert_exporter": "python",
   "pygments_lexer": "ipython3",
   "version": "3.11.4"
  }
 },
 "nbformat": 4,
 "nbformat_minor": 2
}
