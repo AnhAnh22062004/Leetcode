{
 "cells": [
  {
   "cell_type": "code",
   "execution_count": 129,
   "metadata": {},
   "outputs": [],
   "source": [
    "from typing import List\n",
    "import math"
   ]
  },
  {
   "cell_type": "code",
   "execution_count": 130,
   "metadata": {},
   "outputs": [],
   "source": [
    "class Solution:\n",
    "    def threeSumClosest(self, nums: List[int], target: int) -> int:\n",
    "        nums.sort()\n",
    "        lenght = len(nums)\n",
    "        current_sum = nums[0] + nums[1] + nums[2]\n",
    "        count = 0\n",
    "        res = []\n",
    "        res.append([nums[0]])\n",
    "        for i in range(lenght - 1):\n",
    "            low = i + 1\n",
    "            high = lenght - 1\n",
    "            while(low< high):\n",
    "                sum = nums[i] + nums[low] + nums[high]\n",
    "                # print(\"sum:\", sum)\n",
    "                if sum  == target:\n",
    "                    return sum\n",
    "                if abs(sum - target) < abs(current_sum - target):\n",
    "                    current_sum = sum\n",
    "                    # print(\"temp:\",current_sum)\n",
    "                    count +=1\n",
    "                # while low < high and (nums[high -1] == nums[high]):\n",
    "                #     high -= 1\n",
    "                # while low < high and (nums[low+ 1] == nums[low]):\n",
    "                #     low+= 1\n",
    "                if sum > target:\n",
    "                    high -=1\n",
    "                else: \n",
    "                    low+=1\n",
    "        return current_sum     "
   ]
  },
  {
   "cell_type": "code",
   "execution_count": 131,
   "metadata": {},
   "outputs": [],
   "source": [
    "nums= [2,3,8,9,10]\n",
    "target = 1"
   ]
  },
  {
   "cell_type": "code",
   "execution_count": 132,
   "metadata": {},
   "outputs": [
    {
     "data": {
      "text/plain": [
       "[2, 3, 8, 9, 10]"
      ]
     },
     "execution_count": 132,
     "metadata": {},
     "output_type": "execute_result"
    }
   ],
   "source": [
    "nums"
   ]
  },
  {
   "cell_type": "code",
   "execution_count": 133,
   "metadata": {},
   "outputs": [
    {
     "name": "stdout",
     "output_type": "stream",
     "text": [
      "sum: 15\n",
      "temp: 15\n",
      "sum: 20\n",
      "sum: 19\n",
      "sum: 21\n",
      "sum: 20\n",
      "sum: 27\n",
      "15\n"
     ]
    }
   ],
   "source": [
    "solution = Solution()\n",
    "res = solution.threeSumClosest(nums, target)\n",
    "print(res)"
   ]
  }
 ],
 "metadata": {
  "kernelspec": {
   "display_name": "Python 3",
   "language": "python",
   "name": "python3"
  },
  "language_info": {
   "codemirror_mode": {
    "name": "ipython",
    "version": 3
   },
   "file_extension": ".py",
   "mimetype": "text/x-python",
   "name": "python",
   "nbconvert_exporter": "python",
   "pygments_lexer": "ipython3",
   "version": "3.11.4"
  }
 },
 "nbformat": 4,
 "nbformat_minor": 2
}
