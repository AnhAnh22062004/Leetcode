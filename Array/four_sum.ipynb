{
 "cells": [
  {
   "cell_type": "code",
   "execution_count": 4,
   "metadata": {},
   "outputs": [],
   "source": [
    "from typing import List"
   ]
  },
  {
   "cell_type": "code",
   "execution_count": 5,
   "metadata": {},
   "outputs": [],
   "source": [
    "class Solution:\n",
    "    def fourSum(self, nums: List[int], target: int) -> List[List[int]]:\n",
    "        nums.sort() \n",
    "        result = []\n",
    "        length = len(nums)\n",
    "\n",
    "        for i in range(length - 3):\n",
    "            if i > 0 and nums[i] == nums[i - 1]:\n",
    "                continue  \n",
    "            for j in range(i + 1, length - 2):\n",
    "                if j > i + 1 and nums[j] == nums[j - 1]:\n",
    "                    continue\n",
    "                low = j + 1\n",
    "                high = length - 1\n",
    "                \n",
    "                while low < high:\n",
    "                    sum_ = nums[i] + nums[j] + nums[low] + nums[high]\n",
    "                    if sum_ == target:\n",
    "                        result.append([nums[i], nums[j], nums[low], nums[high]])\n",
    "                        \n",
    "                        while low < high and nums[low] == nums[low + 1]:\n",
    "                            low += 1\n",
    "                        while low < high and nums[high] == nums[high - 1]:\n",
    "                            high -= 1\n",
    "                        low += 1\n",
    "                        high -= 1\n",
    "                    elif sum_ < target:\n",
    "                        low += 1\n",
    "                    else:\n",
    "                        high -= 1\n",
    "\n",
    "        return result\n"
   ]
  },
  {
   "cell_type": "code",
   "execution_count": 6,
   "metadata": {},
   "outputs": [],
   "source": [
    "nums = [1,0,-1,0,-2,2]\n",
    "target = 0"
   ]
  },
  {
   "cell_type": "code",
   "execution_count": 7,
   "metadata": {},
   "outputs": [
    {
     "name": "stdout",
     "output_type": "stream",
     "text": [
      "[[-2, -1, 1, 2], [-2, 0, 0, 2], [-1, 0, 0, 1]]\n"
     ]
    }
   ],
   "source": [
    "solution = Solution()\n",
    "res = solution.fourSum(nums, target)\n",
    "print(res)"
   ]
  }
 ],
 "metadata": {
  "kernelspec": {
   "display_name": "Python 3",
   "language": "python",
   "name": "python3"
  },
  "language_info": {
   "codemirror_mode": {
    "name": "ipython",
    "version": 3
   },
   "file_extension": ".py",
   "mimetype": "text/x-python",
   "name": "python",
   "nbconvert_exporter": "python",
   "pygments_lexer": "ipython3",
   "version": "3.11.4"
  }
 },
 "nbformat": 4,
 "nbformat_minor": 2
}
