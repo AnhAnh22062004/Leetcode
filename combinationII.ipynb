{
 "cells": [
  {
   "cell_type": "code",
   "execution_count": 178,
   "metadata": {},
   "outputs": [],
   "source": [
    "from typing import List"
   ]
  },
  {
   "cell_type": "code",
   "execution_count": 179,
   "metadata": {},
   "outputs": [],
   "source": [
    "class Solution:\n",
    "    def combinationSum2(self, candidates: List[int], target: int) -> List[List[int]]:\n",
    "        res = set()\n",
    "        candidates.sort() \n",
    "        \n",
    "        def dfs(start, current, total_sum):\n",
    "            if total_sum == target:\n",
    "                res.add(tuple(current))\n",
    "                return\n",
    "            if total_sum > target:\n",
    "                return\n",
    "            \n",
    "            for i in range(start, len(candidates)):\n",
    "                if i > start and candidates[i] == candidates[i - 1]:\n",
    "                    continue\n",
    "                \n",
    "                current.append(candidates[i])\n",
    "                dfs(i + 1, current, total_sum + candidates[i])  \n",
    "                current.pop()  \n",
    "        \n",
    "        dfs(0, [], 0)\n",
    "        return [list(value) for value in res]  \n"
   ]
  },
  {
   "cell_type": "code",
   "execution_count": 180,
   "metadata": {},
   "outputs": [],
   "source": [
    "candidates = [10,1,2,7,6,1,5]\n",
    "target = 8"
   ]
  },
  {
   "cell_type": "code",
   "execution_count": 181,
   "metadata": {},
   "outputs": [
    {
     "name": "stdout",
     "output_type": "stream",
     "text": [
      "[[1, 7], [1, 1, 6], [1, 2, 5], [2, 6]]\n"
     ]
    }
   ],
   "source": [
    "solution = Solution()\n",
    "print(solution.combinationSum2(candidates, target))"
   ]
  }
 ],
 "metadata": {
  "kernelspec": {
   "display_name": "Python 3",
   "language": "python",
   "name": "python3"
  },
  "language_info": {
   "codemirror_mode": {
    "name": "ipython",
    "version": 3
   },
   "file_extension": ".py",
   "mimetype": "text/x-python",
   "name": "python",
   "nbconvert_exporter": "python",
   "pygments_lexer": "ipython3",
   "version": "3.12.4"
  }
 },
 "nbformat": 4,
 "nbformat_minor": 2
}
