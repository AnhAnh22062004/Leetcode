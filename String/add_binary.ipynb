{
 "cells": [
  {
   "cell_type": "code",
   "execution_count": 90,
   "metadata": {},
   "outputs": [
    {
     "name": "stdout",
     "output_type": "stream",
     "text": [
      "100\n",
      "10101\n",
      "0\n",
      "1\n"
     ]
    }
   ],
   "source": [
    "class Solution:\n",
    "    def addBinary(self, a: str, b: str) -> str:\n",
    "        current_value = 0\n",
    "        res = []\n",
    "        if len(a) < len(b):\n",
    "            a, b = b, a\n",
    "            \n",
    "        for index in range(len(b)):\n",
    "            sum_value = int(b[len(b) - 1 - index]) + int(a[len(a) - 1 - index]) + current_value\n",
    "            \n",
    "            if sum_value == 2:\n",
    "                current_value = 1\n",
    "                res.append('0')  \n",
    "            elif sum_value == 3:\n",
    "                current_value = 1\n",
    "                res.append('1') \n",
    "            else:\n",
    "                current_value = 0\n",
    "                res.append(str(sum_value)) \n",
    "\n",
    "        for i in range(len(a) - len(b) - 1, -1, -1):\n",
    "            sum_value = int(a[i]) + current_value  \n",
    "            if sum_value == 2:\n",
    "                current_value = 1\n",
    "                res.append('0')\n",
    "            elif sum_value == 3:\n",
    "                current_value = 1\n",
    "                res.append('1')\n",
    "            else:\n",
    "                current_value = 0\n",
    "                res.append(str(sum_value))\n",
    "\n",
    "        if current_value == 1:\n",
    "            res.append('1')\n",
    "        res.reverse()\n",
    "        return \"\".join(res) \n",
    "\n"
   ]
  },
  {
   "cell_type": "code",
   "execution_count": 91,
   "metadata": {},
   "outputs": [],
   "source": [
    "a = \"1010\"\n",
    "b = \"1011\""
   ]
  },
  {
   "cell_type": "code",
   "execution_count": 92,
   "metadata": {},
   "outputs": [
    {
     "name": "stdout",
     "output_type": "stream",
     "text": [
      "10101\n"
     ]
    }
   ],
   "source": [
    "solution = Solution()\n",
    "print(solution.addBinary(a, b))"
   ]
  },
  {
   "cell_type": "code",
   "execution_count": null,
   "metadata": {},
   "outputs": [],
   "source": []
  }
 ],
 "metadata": {
  "kernelspec": {
   "display_name": "Python 3",
   "language": "python",
   "name": "python3"
  },
  "language_info": {
   "codemirror_mode": {
    "name": "ipython",
    "version": 3
   },
   "file_extension": ".py",
   "mimetype": "text/x-python",
   "name": "python",
   "nbconvert_exporter": "python",
   "pygments_lexer": "ipython3",
   "version": "3.12.4"
  }
 },
 "nbformat": 4,
 "nbformat_minor": 2
}
