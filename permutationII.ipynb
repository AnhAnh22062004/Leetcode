{
 "cells": [
  {
   "cell_type": "code",
   "execution_count": 6,
   "metadata": {},
   "outputs": [],
   "source": [
    "from typing import List"
   ]
  },
  {
   "cell_type": "code",
   "execution_count": 7,
   "metadata": {},
   "outputs": [],
   "source": [
    "class Solution:\n",
    "    def permuteUnique(self, nums: List[int]) -> List[List[int]]:\n",
    "        visited= [False] * len(nums)\n",
    "        res = []\n",
    "        lenght = len(nums)\n",
    "        # if len(nums) == 1:\n",
    "        #     res.append(nums)\n",
    "        #     return res\n",
    "        def backtrack(current_permutation):\n",
    "            if(len(current_permutation) == len(nums)):\n",
    "                if current_permutation not in res:\n",
    "                    res.append(current_permutation[:])\n",
    "                    return\n",
    "            \n",
    "            for i in range(lenght):\n",
    "                if visited[i]:\n",
    "                    continue\n",
    "                \n",
    "                visited[i] = True\n",
    "                current_permutation.append(nums[i])\n",
    "                backtrack(current_permutation)\n",
    "                \n",
    "                current_permutation.pop()\n",
    "                visited[i] = False\n",
    "        backtrack([])\n",
    "        return res"
   ]
  },
  {
   "cell_type": "code",
   "execution_count": 8,
   "metadata": {},
   "outputs": [],
   "source": [
    "nums = [1,1,5]"
   ]
  },
  {
   "cell_type": "code",
   "execution_count": 9,
   "metadata": {},
   "outputs": [
    {
     "name": "stdout",
     "output_type": "stream",
     "text": [
      "[[1, 1, 5], [1, 5, 1], [5, 1, 1]]\n"
     ]
    }
   ],
   "source": [
    "solution = Solution()\n",
    "print(solution.permuteUnique(nums))"
   ]
  }
 ],
 "metadata": {
  "kernelspec": {
   "display_name": "Python 3",
   "language": "python",
   "name": "python3"
  },
  "language_info": {
   "codemirror_mode": {
    "name": "ipython",
    "version": 3
   },
   "file_extension": ".py",
   "mimetype": "text/x-python",
   "name": "python",
   "nbconvert_exporter": "python",
   "pygments_lexer": "ipython3",
   "version": "3.12.4"
  }
 },
 "nbformat": 4,
 "nbformat_minor": 2
}
