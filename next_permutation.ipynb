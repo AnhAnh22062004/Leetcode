{
 "cells": [
  {
   "cell_type": "code",
   "execution_count": 60,
   "metadata": {},
   "outputs": [],
   "source": [
    "from typing import List"
   ]
  },
  {
   "cell_type": "code",
   "execution_count": 61,
   "metadata": {},
   "outputs": [],
   "source": [
    "class Solution:\n",
    "    def nextPermutation(self, nums: List[int]) -> None:\n",
    "        \"\"\"\n",
    "        Do not return anything, modify nums in-place instead.\n",
    "        \"\"\"\n",
    "        current_nums = nums.copy()\n",
    "        current_nums.sort()\n",
    "        visited = [False] * len(nums)\n",
    "        res =[]\n",
    "        length = len(current_nums)\n",
    "        def backtrack(current_permutation): \n",
    "            if len(current_permutation) == len(current_nums):\n",
    "               if current_permutation not in res:\n",
    "                    res.append(current_permutation[:])\n",
    "                    return\n",
    "               \n",
    "            for i in range(length):\n",
    "                if visited[i]:\n",
    "                    continue\n",
    "\n",
    "                visited[i] = True\n",
    "                current_permutation.append(current_nums[i])\n",
    "                backtrack(current_permutation)\n",
    "                current_permutation.pop()\n",
    "                visited[i] = False\n",
    "        backtrack([])\n",
    "        for index, value in enumerate(res):\n",
    "            if index == len(res) - 1:\n",
    "                return res[0]\n",
    "            if value == nums:\n",
    "                return res[index + 1]\n",
    "        return "
   ]
  },
  {
   "cell_type": "code",
   "execution_count": 62,
   "metadata": {},
   "outputs": [],
   "source": [
    "nums = [1,2,3]"
   ]
  },
  {
   "cell_type": "code",
   "execution_count": 63,
   "metadata": {},
   "outputs": [
    {
     "name": "stdout",
     "output_type": "stream",
     "text": [
      "[1, 3, 2]\n"
     ]
    }
   ],
   "source": [
    "solution = Solution()\n",
    "print(solution.nextPermutation(nums))"
   ]
  }
 ],
 "metadata": {
  "kernelspec": {
   "display_name": "Python 3",
   "language": "python",
   "name": "python3"
  },
  "language_info": {
   "codemirror_mode": {
    "name": "ipython",
    "version": 3
   },
   "file_extension": ".py",
   "mimetype": "text/x-python",
   "name": "python",
   "nbconvert_exporter": "python",
   "pygments_lexer": "ipython3",
   "version": "3.12.4"
  }
 },
 "nbformat": 4,
 "nbformat_minor": 2
}
